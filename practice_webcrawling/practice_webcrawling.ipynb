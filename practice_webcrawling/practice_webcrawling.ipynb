{
 "cells": [
  {
   "cell_type": "markdown",
   "id": "f261de28",
   "metadata": {},
   "source": [
    "# 웹 크롤링 기획하기"
   ]
  },
  {
   "cell_type": "markdown",
   "id": "22c0bf76",
   "metadata": {},
   "source": [
    "- 코스피200 페이지에서 일별 시세를 크롤링하여 데이터 분석에 활용할 것 </br></br>\n",
    "- 일별 시세에 대한 데이터 분석을 하기 위해서는 날짜와 체결가 두 가지의 정보가 필요</br></br>\n",
    "- 코스피200은 국내 시세이므로, Naver 금융에서 데이터를 얻어오고자 함</br></br>\n",
    "- 원하는 데이터를 얻기 위해 일별 시세에서 Frame Source를 가져옴.</br></br>\n",
    "- Frame Source 페이지의 URL에서 필요한 URL을 긁어옴</br></br>"
   ]
  },
  {
   "cell_type": "markdown",
   "id": "81a6a865",
   "metadata": {},
   "source": [
    "# 데이터 요청하기"
   ]
  },
  {
   "cell_type": "markdown",
   "id": "78d422a5",
   "metadata": {},
   "source": [
    "- 웹 페이지에 있는 데이터를 요청하여 가져옴 </br></br>\n",
    "- requests와 bs4 라이브러리 사용법 공부"
   ]
  },
  {
   "cell_type": "code",
   "execution_count": 5,
   "id": "b8ef4c0b",
   "metadata": {},
   "outputs": [
    {
     "data": {
      "text/plain": [
       "'https://finance.naver.com/sise/sise_index_day.naver?code=KPI200&page=1'"
      ]
     },
     "execution_count": 5,
     "metadata": {},
     "output_type": "execute_result"
    }
   ],
   "source": [
    "# 해당 페이지의 page source를 직접 가져옴.\n",
    "page_no = 1\n",
    "page_url = f\"https://finance.naver.com/sise/sise_index_day.naver?code=KPI200&page={page_no}\"\n",
    "page_url"
   ]
  },
  {
   "cell_type": "code",
   "execution_count": 6,
   "id": "fdcbea33",
   "metadata": {},
   "outputs": [
    {
     "data": {
      "text/plain": [
       "'<html lang=\"ko\">\\n<head>\\n<meta http-equiv=\"Content-Type\" content=\"text/html; charset=euc-kr\">\\n<title>네이버 증권</title>\\n\\n<link rel=\"stylesheet\" type=\"text/css\" href=\"https://ssl.pstatic.net/imgstock/static.pc/20230109162011/css/newstock.css\">\\n<link rel=\"stylesheet\" type=\"text/css\" href=\"https://ssl.pstatic.net/imgstock/static.pc/20230109162011/css/common.css\">\\n<link rel=\"stylesheet\" type=\"text/css\" href=\"https://ssl.pstatic.net/imgstock/static.pc/20230109162011/css/layout.css\">\\n<link rel=\"stylesheet\" type=\"text/css\" href=\"https://ssl.pstatic.net/imgstock/static.pc/20230109162011/css/main.css\">\\n<link rel=\"stylesheet\" type=\"text/css\" href=\"https://ssl.pstatic.net/imgstock/static.pc/20230109162011/css/newstock2.css\">\\n<link rel=\"stylesheet\" type=\"text/css\" href=\"https://ssl.pstatic.net/imgstock/static.pc/20230109162011/css/newstock3.css\">\\n<link rel=\"stylesheet\" type=\"text/css\" href=\"https://ssl.pstatic.net/imgstock/static.pc/20230109162011/css/world.css\">\\n</head>\\n<body>\\n<script type=\"text/javascript\" src=\"https://ssl.pstatic.net/imgstock/static.pc/20230109162011/js/jindo.min.ns.1.5.3.euckr.js\"></script>\\n<script type=\"text/javascript\" src=\"https://ssl.pstatic.net/imgstock/static.pc/20230109162011/js/lcslog.js\"></script>\\n\\t\\t\\t\\t<!-- 일별시세 -->\\n\\t\\t\\t\\t<div class=\"box_type_m\">\\n\\t\\t\\t\\t\\t<h4 class=\"top_tlt\" style=\"text-align:left;\"><em>일별</em>시세</h4>\\n\\t\\t\\t\\t\\t<table summary=\"일별 시세표:날짜에 따른 체결가 전일비 등락률 거래량 거래대금 정보를 제공합니다.\" cellpadding=\"0\" cellspacing=\"0\" class=\"type_1\">\\n\\t\\t\\t\\t\\t<caption>일별시세</caption>\\n\\t\\t\\t\\t\\t<col width=\"15%\"><col width=\"14%\"><col width=\"18%\"><col width=\"14%\"><col width=\"*\"><col width=\"18%\">\\n\\t\\t\\t\\t\\t\\n\\t\\t\\t\\t\\t\\t\\n\\t\\t\\t\\t\\t\\t\\n\\t\\t\\t\\t\\t\\t<tr>\\n\\t\\t\\t\\t\\t\\t\\t<th>날짜</th>\\n\\t\\t\\t\\t\\t\\t\\t<th>체결가</th>\\n\\t\\t\\t\\t\\t\\t\\t<th>전일비</th>\\n\\t\\t\\t\\t\\t\\t\\t<th>등락률</th>\\n\\t\\t\\t\\t\\t\\t\\t<th>거래량<span class=\"add_txt\">(천주)</span></th>\\n\\t\\t\\t\\t\\t\\t\\t<th>거래대금<span class=\"add_txt\">(백만)</span></th>\\n\\t\\t\\t\\t\\t\\t</tr>\\n\\t\\t\\t\\t\\t\\t\\n\\t\\t\\t\\t\\t\\t\\t\\t\\t\\t\\n\\t\\t\\t\\t\\t<tr><td colspan=\"6\" class=\"blank_07\"></td></tr>\\n\\n\\t\\n\\t\\t\\t\\t\\t<tr>\\n\\t\\t\\t\\t\\t\\t<td class=\"date\">2023.01.11</td>\\n\\t\\t\\t\\t\\t\\t<td class=\"number_1\">310.38</td>\\n\\t\\t\\t\\t\\t\\t<td class=\"rate_down\" style=\"padding-right:35px;\">\\n\\t\\t\\t\\t<img src=\"https://ssl.pstatic.net/imgstock/images/images4/ico_up.gif\" width=\"7\" height=\"6\" style=\"margin-right:4px;\" alt=\"상승\"><span class=\"tah p11 red02\">\\n\\t\\t\\t\\t0.81\\n\\t\\t\\t\\t</span>\\n\\t\\t\\t</td>\\n\\t\\t\\t\\t\\t\\t<td class=\"number_1\">\\n\\t\\t\\t\\t<span class=\"tah p11 red01\">\\n\\t\\t\\t\\t+0.26%\\n\\t\\t\\t\\t</span>\\n\\t\\t\\t</td>\\n\\t\\t\\t\\t\\t\\t<td class=\"number_1\" style=\"padding-right:40px;\">102,603</td>\\n\\t\\t\\t\\t\\t\\t<td class=\"number_1\" style=\"padding-right:30px;\">5,055,057</td>\\n\\t\\t\\t\\t\\t</tr>\\n\\t\\t\\n\\t\\t\\t\\n\\t\\t\\t\\t\\n\\t\\t\\t\\t\\t<tr>\\n\\t\\t\\t\\t\\t\\t<td class=\"date\">2023.01.10</td>\\n\\t\\t\\t\\t\\t\\t<td class=\"number_1\">309.57</td>\\n\\t\\t\\t\\t\\t\\t<td class=\"rate_down\" style=\"padding-right:35px;\">\\n\\t\\t\\t\\t<img src=\"https://ssl.pstatic.net/imgstock/images/images4/ico_down.gif\" width=\"7\" height=\"6\" style=\"margin-right:4px;\" alt=\"하락\"><span class=\"tah p11 nv01\">\\n\\t\\t\\t\\t0.12\\n\\t\\t\\t\\t</span>\\n\\t\\t\\t</td>\\n\\t\\t\\t\\t\\t\\t<td class=\"number_1\">\\n\\t\\t\\t\\t<span class=\"tah p11 nv01\">\\n\\t\\t\\t\\t-0.04%\\n\\t\\t\\t\\t</span>\\n\\t\\t\\t</td>\\n\\t\\t\\t\\t\\t\\t<td class=\"number_1\" style=\"padding-right:40px;\">111,372</td>\\n\\t\\t\\t\\t\\t\\t<td class=\"number_1\" style=\"padding-right:30px;\">5,344,555</td>\\n\\t\\t\\t\\t\\t</tr>\\n\\t\\t\\t\\t\\n\\t\\t\\t\\t\\n\\t\\t\\t\\n\\t\\t\\t\\n\\t\\t\\t\\n\\t\\t\\t\\n\\t\\t\\t\\t\\n\\t\\t\\t\\n\\t\\t\\t\\n\\t\\t\\n\\t\\t\\t\\n\\t\\t\\t\\t\\n\\t\\t\\t\\t\\t<tr>\\n\\t\\t\\t\\t\\t\\t<td class=\"date\">2023.01.09</td>\\n\\t\\t\\t\\t\\t\\t<td class=\"number_1\">309.69</td>\\n\\t\\t\\t\\t\\t\\t<td class=\"rate_down\" style=\"padding-right:35px;\">\\n\\t\\t\\t\\t<img src=\"https://ssl.pstatic.net/imgstock/images/images4/ico_up.gif\" width=\"7\" height=\"6\" style=\"margin-right:4px;\" alt=\"상승\"><span class=\"tah p11 red02\">\\n\\t\\t\\t\\t8.16\\n\\t\\t\\t\\t</span>\\n\\t\\t\\t</td>\\n\\t\\t\\t\\t\\t\\t<td class=\"number_1\">\\n\\t\\t\\t\\t<span class=\"tah p11 red01\">\\n\\t\\t\\t\\t+2.71%\\n\\t\\t\\t\\t</span>\\n\\t\\t\\t</td>\\n\\t\\t\\t\\t\\t\\t<td class=\"number_1\" style=\"padding-right:40px;\">121,175</td>\\n\\t\\t\\t\\t\\t\\t<td class=\"number_1\" style=\"padding-right:30px;\">5,859,248</td>\\n\\t\\t\\t\\t\\t</tr>\\n\\t\\t\\t\\t\\n\\t\\t\\t\\t\\n\\t\\t\\t\\n\\t\\t\\t\\n\\t\\t\\t\\n\\t\\t\\t\\n\\t\\t\\t\\t\\n\\t\\t\\t\\t\\t<tr><td colspan=\"6\" class=\"blank_08\"></td></tr>\\n\\t\\t\\t\\t\\t<tr><td colspan=\"6\" class=\"division_line\"></td></tr>\\n\\t\\t\\t\\t\\t<tr><td colspan=\"6\" class=\"blank_08\"></td></tr>\\n\\t\\t\\t\\t\\t<tr>\\n\\t\\t\\t\\t\\n\\t\\t\\t\\n\\t\\t\\t\\n\\t\\t\\n\\t\\t\\t\\n\\t\\t\\t\\t\\n\\t\\t\\t\\t\\t<tr>\\n\\t\\t\\t\\t\\t\\t<td class=\"date\">2023.01.06</td>\\n\\t\\t\\t\\t\\t\\t<td class=\"number_1\">301.53</td>\\n\\t\\t\\t\\t\\t\\t<td class=\"rate_down\" style=\"padding-right:35px;\">\\n\\t\\t\\t\\t<img src=\"https://ssl.pstatic.net/imgstock/images/images4/ico_up.gif\" width=\"7\" height=\"6\" style=\"margin-right:4px;\" alt=\"상승\"><span class=\"tah p11 red02\">\\n\\t\\t\\t\\t3.66\\n\\t\\t\\t\\t</span>\\n\\t\\t\\t</td>\\n\\t\\t\\t\\t\\t\\t<td class=\"number_1\">\\n\\t\\t\\t\\t<span class=\"tah p11 red01\">\\n\\t\\t\\t\\t+1.23%\\n\\t\\t\\t\\t</span>\\n\\t\\t\\t</td>\\n\\t\\t\\t\\t\\t\\t<td class=\"number_1\" style=\"padding-right:40px;\">121,021</td>\\n\\t\\t\\t\\t\\t\\t<td class=\"number_1\" style=\"padding-right:30px;\">5,367,994</td>\\n\\t\\t\\t\\t\\t</tr>\\n\\t\\t\\t\\t\\n\\t\\t\\t\\t\\n\\t\\t\\t\\n\\t\\t\\t\\n\\t\\t\\t\\n\\t\\t\\t\\n\\t\\t\\t\\t\\n\\t\\t\\t\\n\\t\\t\\t\\n\\t\\t\\n\\t\\t\\t\\n\\t\\t\\t\\t\\n\\t\\t\\t\\t\\t<tr>\\n\\t\\t\\t\\t\\t\\t<td class=\"date\">2023.01.05</td>\\n\\t\\t\\t\\t\\t\\t<td class=\"number_1\">297.87</td>\\n\\t\\t\\t\\t\\t\\t<td class=\"rate_down\" style=\"padding-right:35px;\">\\n\\t\\t\\t\\t<img src=\"https://ssl.pstatic.net/imgstock/images/images4/ico_up.gif\" width=\"7\" height=\"6\" style=\"margin-right:4px;\" alt=\"상승\"><span class=\"tah p11 red02\">\\n\\t\\t\\t\\t1.89\\n\\t\\t\\t\\t</span>\\n\\t\\t\\t</td>\\n\\t\\t\\t\\t\\t\\t<td class=\"number_1\">\\n\\t\\t\\t\\t<span class=\"tah p11 red01\">\\n\\t\\t\\t\\t+0.64%\\n\\t\\t\\t\\t</span>\\n\\t\\t\\t</td>\\n\\t\\t\\t\\t\\t\\t<td class=\"number_1\" style=\"padding-right:40px;\">137,287</td>\\n\\t\\t\\t\\t\\t\\t<td class=\"number_1\" style=\"padding-right:30px;\">6,003,133</td>\\n\\t\\t\\t\\t\\t</tr>\\n\\t\\t\\t\\t\\n\\t\\t\\t\\t\\n\\t\\t\\t\\n\\t\\t\\t\\n\\t\\t\\t\\n\\t\\t\\t\\n\\t\\t\\t\\t\\n\\t\\t\\t\\n\\t\\t\\t\\n\\t\\t\\n\\t\\t\\t\\n\\t\\t\\t\\t\\n\\t\\t\\t\\t\\t<tr>\\n\\t\\t\\t\\t\\t\\t<td class=\"date\">2023.01.04</td>\\n\\t\\t\\t\\t\\t\\t<td class=\"number_1\">295.98</td>\\n\\t\\t\\t\\t\\t\\t<td class=\"rate_down\" style=\"padding-right:35px;\">\\n\\t\\t\\t\\t<img src=\"https://ssl.pstatic.net/imgstock/images/images4/ico_up.gif\" width=\"7\" height=\"6\" style=\"margin-right:4px;\" alt=\"상승\"><span class=\"tah p11 red02\">\\n\\t\\t\\t\\t6.40\\n\\t\\t\\t\\t</span>\\n\\t\\t\\t</td>\\n\\t\\t\\t\\t\\t\\t<td class=\"number_1\">\\n\\t\\t\\t\\t<span class=\"tah p11 red01\">\\n\\t\\t\\t\\t+2.21%\\n\\t\\t\\t\\t</span>\\n\\t\\t\\t</td>\\n\\t\\t\\t\\t\\t\\t<td class=\"number_1\" style=\"padding-right:40px;\">109,947</td>\\n\\t\\t\\t\\t\\t\\t<td class=\"number_1\" style=\"padding-right:30px;\">5,193,513</td>\\n\\t\\t\\t\\t\\t</tr>\\n\\t\\t\\t\\t\\n\\t\\t\\t\\t\\n\\t\\t\\t\\n\\t\\t\\t\\n\\t\\t\\t\\n\\t\\t\\t\\n\\t\\t\\t\\t\\n\\t\\t\\t\\n\\t\\t\\t\\n\\t\\t\\n\\t\\t\\t\\n\\t\\n\\t\\n\\t\\n\\t\\n\\n\\t\\t\\t\\t\\t<tr><td colspan=\"6\" class=\"blank_09\"></td></tr>\\n\\t\\t\\t\\t\\t<tr><td colspan=\"6\" class=\"division_line\"></td></tr>\\n\\t\\t\\t\\t\\t</table>\\n\\t\\t\\t\\t<!--- 페이지 네비게이션 시작--->\\n\\t\\t\\t\\t<table summary=\"페이지 네비게이션 리스트\" class=\"Nnavi\" align=\"center\">\\n\\t\\t\\t\\t<caption>페이지 네비게이션</caption>\\n\\t\\t\\t\\t<tr>\\t\\t\\n\\t\\t\\t\\n\\t\\t\\t\\t\\n                \\n                <td class=\"on\">\\n\\t\\t\\t\\t<a href=\"/sise/sise_index_day.naver?code=KPI200&amp;page=1\"  >1</a>\\n\\t\\t\\t\\t</td>\\n<td>\\n\\t\\t\\t\\t<a href=\"/sise/sise_index_day.naver?code=KPI200&amp;page=2\"  >2</a>\\n\\t\\t\\t\\t</td>\\n<td>\\n\\t\\t\\t\\t<a href=\"/sise/sise_index_day.naver?code=KPI200&amp;page=3\"  >3</a>\\n\\t\\t\\t\\t</td>\\n<td>\\n\\t\\t\\t\\t<a href=\"/sise/sise_index_day.naver?code=KPI200&amp;page=4\"  >4</a>\\n\\t\\t\\t\\t</td>\\n<td>\\n\\t\\t\\t\\t<a href=\"/sise/sise_index_day.naver?code=KPI200&amp;page=5\"  >5</a>\\n\\t\\t\\t\\t</td>\\n<td>\\n\\t\\t\\t\\t<a href=\"/sise/sise_index_day.naver?code=KPI200&amp;page=6\"  >6</a>\\n\\t\\t\\t\\t</td>\\n<td>\\n\\t\\t\\t\\t<a href=\"/sise/sise_index_day.naver?code=KPI200&amp;page=7\"  >7</a>\\n\\t\\t\\t\\t</td>\\n<td>\\n\\t\\t\\t\\t<a href=\"/sise/sise_index_day.naver?code=KPI200&amp;page=8\"  >8</a>\\n\\t\\t\\t\\t</td>\\n<td>\\n\\t\\t\\t\\t<a href=\"/sise/sise_index_day.naver?code=KPI200&amp;page=9\"  >9</a>\\n\\t\\t\\t\\t</td>\\n<td>\\n\\t\\t\\t\\t<a href=\"/sise/sise_index_day.naver?code=KPI200&amp;page=10\"  >10</a>\\n\\t\\t\\t\\t</td>\\n\\n                <td class=\"pgR\">\\n\\t\\t\\t\\t<a href=\"/sise/sise_index_day.naver?code=KPI200&amp;page=11\"  >\\n\\t\\t\\t\\t다음<img src=\"https://ssl.pstatic.net/static/n/cmn/bu_pgarR.gif\" width=\"3\" height=\"5\" alt=\"\" border=\"0\">\\n\\t\\t\\t\\t</a>\\n\\t\\t\\t\\t</td>\\n\\n                <td class=\"pgRR\">\\n\\t\\t\\t\\t<a href=\"/sise/sise_index_day.naver?code=KPI200&amp;page=702\"  >맨뒤\\n\\t\\t\\t\\t<img src=\"https://ssl.pstatic.net/static/n/cmn/bu_pgarRR.gif\" width=\"8\" height=\"5\" alt=\"\" border=\"0\">\\n\\t\\t\\t\\t</a>\\n\\t\\t\\t\\t</td>\\n\\n            \\n\\t\\t\\t\\t</tr>\\n\\t\\t\\t\\t</table>\\n\\t\\t\\t\\t<!--- 페이지 네비게이션 끝--->\\n\\t\\t\\t\\t</div>\\n\\t\\t\\t\\t<!-- //일별시세 -->\\n\\t\\t\\t\\t\\n<script type=\"text/javascript\">\\n    ;(function(){\\n        var eventType = \"onpageshow\" in window ? \"pageshow\" : \"load\";\\n        jindo.$Fn(function(){\\n            lcs_do();\\n        }).attach(window, eventType);\\n    })();\\n</script>\\n\\n</body>\\n</html>\\n'"
      ]
     },
     "execution_count": 6,
     "metadata": {},
     "output_type": "execute_result"
    }
   ],
   "source": [
    "# requests 라이브러리 이용\n",
    "\n",
    "import requests\n",
    "\n",
    "source = requests.get(page_url).text\n",
    "source"
   ]
  },
  {
   "cell_type": "markdown",
   "id": "5ab77d40",
   "metadata": {},
   "source": [
    "### beautifulsoup4를 이용하여 태그에서 정보를 가져오기 </br>\n",
    "- beautifulsoup4(bs4)는 HTML source를 tag별 계층 구조를 파악하기 쉽에 parse tree 형태로 변환해주는 라이브러리임</br></br>\n",
    "- find, find_all 함수를 이용하여 원하는 tag와 속성에 맞는 모든 정보를 가져올 수 있음"
   ]
  },
  {
   "cell_type": "code",
   "execution_count": 7,
   "id": "9cf81a74",
   "metadata": {},
   "outputs": [
    {
     "data": {
      "text/plain": [
       "<html lang=\"ko\">\n",
       "<head>\n",
       "<meta content=\"text/html; charset=utf-8\" http-equiv=\"Content-Type\"/>\n",
       "<title>네이버 증권</title>\n",
       "<link href=\"https://ssl.pstatic.net/imgstock/static.pc/20230109162011/css/newstock.css\" rel=\"stylesheet\" type=\"text/css\"/>\n",
       "<link href=\"https://ssl.pstatic.net/imgstock/static.pc/20230109162011/css/common.css\" rel=\"stylesheet\" type=\"text/css\"/>\n",
       "<link href=\"https://ssl.pstatic.net/imgstock/static.pc/20230109162011/css/layout.css\" rel=\"stylesheet\" type=\"text/css\"/>\n",
       "<link href=\"https://ssl.pstatic.net/imgstock/static.pc/20230109162011/css/main.css\" rel=\"stylesheet\" type=\"text/css\"/>\n",
       "<link href=\"https://ssl.pstatic.net/imgstock/static.pc/20230109162011/css/newstock2.css\" rel=\"stylesheet\" type=\"text/css\"/>\n",
       "<link href=\"https://ssl.pstatic.net/imgstock/static.pc/20230109162011/css/newstock3.css\" rel=\"stylesheet\" type=\"text/css\"/>\n",
       "<link href=\"https://ssl.pstatic.net/imgstock/static.pc/20230109162011/css/world.css\" rel=\"stylesheet\" type=\"text/css\"/>\n",
       "</head>\n",
       "<body>\n",
       "<script src=\"https://ssl.pstatic.net/imgstock/static.pc/20230109162011/js/jindo.min.ns.1.5.3.euckr.js\" type=\"text/javascript\"></script>\n",
       "<script src=\"https://ssl.pstatic.net/imgstock/static.pc/20230109162011/js/lcslog.js\" type=\"text/javascript\"></script>\n",
       "<!-- 일별시세 -->\n",
       "<div class=\"box_type_m\">\n",
       "<h4 class=\"top_tlt\" style=\"text-align:left;\"><em>일별</em>시세</h4>\n",
       "<table cellpadding=\"0\" cellspacing=\"0\" class=\"type_1\" summary=\"일별 시세표:날짜에 따른 체결가 전일비 등락률 거래량 거래대금 정보를 제공합니다.\">\n",
       "<caption>일별시세</caption>\n",
       "<col width=\"15%\"/><col width=\"14%\"/><col width=\"18%\"/><col width=\"14%\"/><col width=\"*\"/><col width=\"18%\"/>\n",
       "<tr>\n",
       "<th>날짜</th>\n",
       "<th>체결가</th>\n",
       "<th>전일비</th>\n",
       "<th>등락률</th>\n",
       "<th>거래량<span class=\"add_txt\">(천주)</span></th>\n",
       "<th>거래대금<span class=\"add_txt\">(백만)</span></th>\n",
       "</tr>\n",
       "<tr><td class=\"blank_07\" colspan=\"6\"></td></tr>\n",
       "<tr>\n",
       "<td class=\"date\">2023.01.11</td>\n",
       "<td class=\"number_1\">310.38</td>\n",
       "<td class=\"rate_down\" style=\"padding-right:35px;\">\n",
       "<img alt=\"상승\" height=\"6\" src=\"https://ssl.pstatic.net/imgstock/images/images4/ico_up.gif\" style=\"margin-right:4px;\" width=\"7\"/><span class=\"tah p11 red02\">\n",
       "\t\t\t\t0.81\n",
       "\t\t\t\t</span>\n",
       "</td>\n",
       "<td class=\"number_1\">\n",
       "<span class=\"tah p11 red01\">\n",
       "\t\t\t\t+0.26%\n",
       "\t\t\t\t</span>\n",
       "</td>\n",
       "<td class=\"number_1\" style=\"padding-right:40px;\">102,603</td>\n",
       "<td class=\"number_1\" style=\"padding-right:30px;\">5,055,057</td>\n",
       "</tr>\n",
       "<tr>\n",
       "<td class=\"date\">2023.01.10</td>\n",
       "<td class=\"number_1\">309.57</td>\n",
       "<td class=\"rate_down\" style=\"padding-right:35px;\">\n",
       "<img alt=\"하락\" height=\"6\" src=\"https://ssl.pstatic.net/imgstock/images/images4/ico_down.gif\" style=\"margin-right:4px;\" width=\"7\"/><span class=\"tah p11 nv01\">\n",
       "\t\t\t\t0.12\n",
       "\t\t\t\t</span>\n",
       "</td>\n",
       "<td class=\"number_1\">\n",
       "<span class=\"tah p11 nv01\">\n",
       "\t\t\t\t-0.04%\n",
       "\t\t\t\t</span>\n",
       "</td>\n",
       "<td class=\"number_1\" style=\"padding-right:40px;\">111,372</td>\n",
       "<td class=\"number_1\" style=\"padding-right:30px;\">5,344,555</td>\n",
       "</tr>\n",
       "<tr>\n",
       "<td class=\"date\">2023.01.09</td>\n",
       "<td class=\"number_1\">309.69</td>\n",
       "<td class=\"rate_down\" style=\"padding-right:35px;\">\n",
       "<img alt=\"상승\" height=\"6\" src=\"https://ssl.pstatic.net/imgstock/images/images4/ico_up.gif\" style=\"margin-right:4px;\" width=\"7\"/><span class=\"tah p11 red02\">\n",
       "\t\t\t\t8.16\n",
       "\t\t\t\t</span>\n",
       "</td>\n",
       "<td class=\"number_1\">\n",
       "<span class=\"tah p11 red01\">\n",
       "\t\t\t\t+2.71%\n",
       "\t\t\t\t</span>\n",
       "</td>\n",
       "<td class=\"number_1\" style=\"padding-right:40px;\">121,175</td>\n",
       "<td class=\"number_1\" style=\"padding-right:30px;\">5,859,248</td>\n",
       "</tr>\n",
       "<tr><td class=\"blank_08\" colspan=\"6\"></td></tr>\n",
       "<tr><td class=\"division_line\" colspan=\"6\"></td></tr>\n",
       "<tr><td class=\"blank_08\" colspan=\"6\"></td></tr>\n",
       "<tr>\n",
       "</tr><tr>\n",
       "<td class=\"date\">2023.01.06</td>\n",
       "<td class=\"number_1\">301.53</td>\n",
       "<td class=\"rate_down\" style=\"padding-right:35px;\">\n",
       "<img alt=\"상승\" height=\"6\" src=\"https://ssl.pstatic.net/imgstock/images/images4/ico_up.gif\" style=\"margin-right:4px;\" width=\"7\"/><span class=\"tah p11 red02\">\n",
       "\t\t\t\t3.66\n",
       "\t\t\t\t</span>\n",
       "</td>\n",
       "<td class=\"number_1\">\n",
       "<span class=\"tah p11 red01\">\n",
       "\t\t\t\t+1.23%\n",
       "\t\t\t\t</span>\n",
       "</td>\n",
       "<td class=\"number_1\" style=\"padding-right:40px;\">121,021</td>\n",
       "<td class=\"number_1\" style=\"padding-right:30px;\">5,367,994</td>\n",
       "</tr>\n",
       "<tr>\n",
       "<td class=\"date\">2023.01.05</td>\n",
       "<td class=\"number_1\">297.87</td>\n",
       "<td class=\"rate_down\" style=\"padding-right:35px;\">\n",
       "<img alt=\"상승\" height=\"6\" src=\"https://ssl.pstatic.net/imgstock/images/images4/ico_up.gif\" style=\"margin-right:4px;\" width=\"7\"/><span class=\"tah p11 red02\">\n",
       "\t\t\t\t1.89\n",
       "\t\t\t\t</span>\n",
       "</td>\n",
       "<td class=\"number_1\">\n",
       "<span class=\"tah p11 red01\">\n",
       "\t\t\t\t+0.64%\n",
       "\t\t\t\t</span>\n",
       "</td>\n",
       "<td class=\"number_1\" style=\"padding-right:40px;\">137,287</td>\n",
       "<td class=\"number_1\" style=\"padding-right:30px;\">6,003,133</td>\n",
       "</tr>\n",
       "<tr>\n",
       "<td class=\"date\">2023.01.04</td>\n",
       "<td class=\"number_1\">295.98</td>\n",
       "<td class=\"rate_down\" style=\"padding-right:35px;\">\n",
       "<img alt=\"상승\" height=\"6\" src=\"https://ssl.pstatic.net/imgstock/images/images4/ico_up.gif\" style=\"margin-right:4px;\" width=\"7\"/><span class=\"tah p11 red02\">\n",
       "\t\t\t\t6.40\n",
       "\t\t\t\t</span>\n",
       "</td>\n",
       "<td class=\"number_1\">\n",
       "<span class=\"tah p11 red01\">\n",
       "\t\t\t\t+2.21%\n",
       "\t\t\t\t</span>\n",
       "</td>\n",
       "<td class=\"number_1\" style=\"padding-right:40px;\">109,947</td>\n",
       "<td class=\"number_1\" style=\"padding-right:30px;\">5,193,513</td>\n",
       "</tr>\n",
       "<tr><td class=\"blank_09\" colspan=\"6\"></td></tr>\n",
       "<tr><td class=\"division_line\" colspan=\"6\"></td></tr>\n",
       "</table>\n",
       "<!--- 페이지 네비게이션 시작--->\n",
       "<table align=\"center\" class=\"Nnavi\" summary=\"페이지 네비게이션 리스트\">\n",
       "<caption>페이지 네비게이션</caption>\n",
       "<tr>\n",
       "<td class=\"on\">\n",
       "<a href=\"/sise/sise_index_day.naver?code=KPI200&amp;page=1\">1</a>\n",
       "</td>\n",
       "<td>\n",
       "<a href=\"/sise/sise_index_day.naver?code=KPI200&amp;page=2\">2</a>\n",
       "</td>\n",
       "<td>\n",
       "<a href=\"/sise/sise_index_day.naver?code=KPI200&amp;page=3\">3</a>\n",
       "</td>\n",
       "<td>\n",
       "<a href=\"/sise/sise_index_day.naver?code=KPI200&amp;page=4\">4</a>\n",
       "</td>\n",
       "<td>\n",
       "<a href=\"/sise/sise_index_day.naver?code=KPI200&amp;page=5\">5</a>\n",
       "</td>\n",
       "<td>\n",
       "<a href=\"/sise/sise_index_day.naver?code=KPI200&amp;page=6\">6</a>\n",
       "</td>\n",
       "<td>\n",
       "<a href=\"/sise/sise_index_day.naver?code=KPI200&amp;page=7\">7</a>\n",
       "</td>\n",
       "<td>\n",
       "<a href=\"/sise/sise_index_day.naver?code=KPI200&amp;page=8\">8</a>\n",
       "</td>\n",
       "<td>\n",
       "<a href=\"/sise/sise_index_day.naver?code=KPI200&amp;page=9\">9</a>\n",
       "</td>\n",
       "<td>\n",
       "<a href=\"/sise/sise_index_day.naver?code=KPI200&amp;page=10\">10</a>\n",
       "</td>\n",
       "<td class=\"pgR\">\n",
       "<a href=\"/sise/sise_index_day.naver?code=KPI200&amp;page=11\">\n",
       "\t\t\t\t다음<img alt=\"\" border=\"0\" height=\"5\" src=\"https://ssl.pstatic.net/static/n/cmn/bu_pgarR.gif\" width=\"3\"/>\n",
       "</a>\n",
       "</td>\n",
       "<td class=\"pgRR\">\n",
       "<a href=\"/sise/sise_index_day.naver?code=KPI200&amp;page=702\">맨뒤\n",
       "\t\t\t\t<img alt=\"\" border=\"0\" height=\"5\" src=\"https://ssl.pstatic.net/static/n/cmn/bu_pgarRR.gif\" width=\"8\"/>\n",
       "</a>\n",
       "</td>\n",
       "</tr>\n",
       "</table>\n",
       "<!--- 페이지 네비게이션 끝--->\n",
       "</div>\n",
       "<!-- //일별시세 -->\n",
       "<script type=\"text/javascript\">\n",
       "    ;(function(){\n",
       "        var eventType = \"onpageshow\" in window ? \"pageshow\" : \"load\";\n",
       "        jindo.$Fn(function(){\n",
       "            lcs_do();\n",
       "        }).attach(window, eventType);\n",
       "    })();\n",
       "</script>\n",
       "</body>\n",
       "</html>"
      ]
     },
     "execution_count": 7,
     "metadata": {},
     "output_type": "execute_result"
    }
   ],
   "source": [
    "# beautifulsoap4 라이브러리 이용\n",
    "\n",
    "import bs4\n",
    "\n",
    "# BeautifulSoup 함수를 이용하여 불러온 html source를 'lxml' parser로 prasing함\n",
    "source = bs4.BeautifulSoup(source)\n",
    "source"
   ]
  },
  {
   "cell_type": "code",
   "execution_count": null,
   "id": "b240f2f3",
   "metadata": {},
   "outputs": [],
   "source": [
    "# prettify() 함수는 HTML source를 tab을 기준으로 이쁘게 보여줌\n",
    "print(source.prettify())"
   ]
  },
  {
   "cell_type": "markdown",
   "id": "8fb40c62",
   "metadata": {},
   "source": [
    "- 찾고 싶은 체결가 데이터는 td class=\"number_1\"에 있는 것을 확인 \n",
    "</br></br>\n",
    "- td tag를 찾아서 class가 number_1인 데이터를 모두 가져올 것\n"
   ]
  },
  {
   "cell_type": "code",
   "execution_count": 9,
   "id": "213518dc",
   "metadata": {},
   "outputs": [
    {
     "data": {
      "text/plain": [
       "[<td class=\"number_1\">310.38</td>,\n",
       " <td class=\"number_1\">\n",
       " <span class=\"tah p11 red01\">\n",
       " \t\t\t\t+0.26%\n",
       " \t\t\t\t</span>\n",
       " </td>,\n",
       " <td class=\"number_1\" style=\"padding-right:40px;\">102,603</td>,\n",
       " <td class=\"number_1\" style=\"padding-right:30px;\">5,055,057</td>,\n",
       " <td class=\"number_1\">309.57</td>,\n",
       " <td class=\"number_1\">\n",
       " <span class=\"tah p11 nv01\">\n",
       " \t\t\t\t-0.04%\n",
       " \t\t\t\t</span>\n",
       " </td>,\n",
       " <td class=\"number_1\" style=\"padding-right:40px;\">111,372</td>,\n",
       " <td class=\"number_1\" style=\"padding-right:30px;\">5,344,555</td>,\n",
       " <td class=\"number_1\">309.69</td>,\n",
       " <td class=\"number_1\">\n",
       " <span class=\"tah p11 red01\">\n",
       " \t\t\t\t+2.71%\n",
       " \t\t\t\t</span>\n",
       " </td>,\n",
       " <td class=\"number_1\" style=\"padding-right:40px;\">121,175</td>,\n",
       " <td class=\"number_1\" style=\"padding-right:30px;\">5,859,248</td>,\n",
       " <td class=\"number_1\">301.53</td>,\n",
       " <td class=\"number_1\">\n",
       " <span class=\"tah p11 red01\">\n",
       " \t\t\t\t+1.23%\n",
       " \t\t\t\t</span>\n",
       " </td>,\n",
       " <td class=\"number_1\" style=\"padding-right:40px;\">121,021</td>,\n",
       " <td class=\"number_1\" style=\"padding-right:30px;\">5,367,994</td>,\n",
       " <td class=\"number_1\">297.87</td>,\n",
       " <td class=\"number_1\">\n",
       " <span class=\"tah p11 red01\">\n",
       " \t\t\t\t+0.64%\n",
       " \t\t\t\t</span>\n",
       " </td>,\n",
       " <td class=\"number_1\" style=\"padding-right:40px;\">137,287</td>,\n",
       " <td class=\"number_1\" style=\"padding-right:30px;\">6,003,133</td>,\n",
       " <td class=\"number_1\">295.98</td>,\n",
       " <td class=\"number_1\">\n",
       " <span class=\"tah p11 red01\">\n",
       " \t\t\t\t+2.21%\n",
       " \t\t\t\t</span>\n",
       " </td>,\n",
       " <td class=\"number_1\" style=\"padding-right:40px;\">109,947</td>,\n",
       " <td class=\"number_1\" style=\"padding-right:30px;\">5,193,513</td>]"
      ]
     },
     "execution_count": 9,
     "metadata": {},
     "output_type": "execute_result"
    }
   ],
   "source": [
    "# find_all() 함수는 HTML source에서 조건을 만족하는 모든 tag를 가져오는 함수이다.\n",
    "source.find_all('td', class_=\"number_1\")"
   ]
  },
  {
   "cell_type": "markdown",
   "id": "f812cafc",
   "metadata": {},
   "source": [
    "# 주식 데이터 가져오기 </br>\n",
    "### 날짜 추출 </br></br>\n",
    "- td 태그 중에 원하는 정보만을 따로 가져와야 함 \n",
    "</br></br>\n",
    "- 날짜 태그의 규칙을 찾아서 td 태그들 중에 날짜를 가져온다.\n",
    "</br></br>\n",
    "- 해당 페이지에서 날짜 정보가 있는 tag에 대한 규칙을 찾기가 어려움 -> XPath 정보를 이용하여 바로 검색할 태그를 지정할 수 있음\n",
    "</br></br>\n",
    "- 해당 태그 위에서 우클릭을 하여 Copy XPath를 누름"
   ]
  },
  {
   "cell_type": "code",
   "execution_count": 10,
   "id": "1807be27",
   "metadata": {},
   "outputs": [
    {
     "data": {
      "text/plain": [
       "[<td class=\"date\">2023.01.11</td>,\n",
       " <td class=\"date\">2023.01.10</td>,\n",
       " <td class=\"date\">2023.01.09</td>,\n",
       " <td class=\"date\">2023.01.06</td>,\n",
       " <td class=\"date\">2023.01.05</td>,\n",
       " <td class=\"date\">2023.01.04</td>]"
      ]
     },
     "execution_count": 10,
     "metadata": {},
     "output_type": "execute_result"
    }
   ],
   "source": [
    "dates = source.find_all('td', class_=\"date\")\n",
    "dates"
   ]
  },
  {
   "cell_type": "code",
   "execution_count": 12,
   "id": "106ba74c",
   "metadata": {},
   "outputs": [
    {
     "data": {
      "text/plain": [
       "'2023.01.11'"
      ]
     },
     "execution_count": 12,
     "metadata": {},
     "output_type": "execute_result"
    }
   ],
   "source": [
    "dates[0].text # data type은 String"
   ]
  },
  {
   "cell_type": "code",
   "execution_count": 14,
   "id": "c1edcfc1",
   "metadata": {},
   "outputs": [
    {
     "data": {
      "text/plain": [
       "['2023.01.11',\n",
       " '2023.01.10',\n",
       " '2023.01.09',\n",
       " '2023.01.06',\n",
       " '2023.01.05',\n",
       " '2023.01.04']"
      ]
     },
     "execution_count": 14,
     "metadata": {},
     "output_type": "execute_result"
    }
   ],
   "source": [
    "# 데이터는 text 형태로 tag 사이에 있음\n",
    "# tag 사이에 껴있는 텍스트를 가져올 때는 .text를 이용함\n",
    "date_list=[] # 텍스트를 추출하여 리스트로 저장함\n",
    "for date in dates:\n",
    "    date_list.append(date.text)\n",
    "date_list"
   ]
  },
  {
   "cell_type": "markdown",
   "id": "4147cc7d",
   "metadata": {},
   "source": [
    "- XPath 이용"
   ]
  },
  {
   "cell_type": "markdown",
   "id": "977c9046",
   "metadata": {},
   "source": [
    "### 체결가(종가) 추출\n",
    "</br></br>\n",
    "페이지 상의 날짜와 종가정보 전체를 추출한다."
   ]
  },
  {
   "cell_type": "code",
   "execution_count": 17,
   "id": "f5462ef1",
   "metadata": {},
   "outputs": [
    {
     "data": {
      "text/plain": [
       "[<td class=\"number_1\">310.38</td>,\n",
       " <td class=\"number_1\">\n",
       " <span class=\"tah p11 red01\">\n",
       " \t\t\t\t+0.26%\n",
       " \t\t\t\t</span>\n",
       " </td>,\n",
       " <td class=\"number_1\" style=\"padding-right:40px;\">102,603</td>,\n",
       " <td class=\"number_1\" style=\"padding-right:30px;\">5,055,057</td>,\n",
       " <td class=\"number_1\">309.57</td>,\n",
       " <td class=\"number_1\">\n",
       " <span class=\"tah p11 nv01\">\n",
       " \t\t\t\t-0.04%\n",
       " \t\t\t\t</span>\n",
       " </td>,\n",
       " <td class=\"number_1\" style=\"padding-right:40px;\">111,372</td>,\n",
       " <td class=\"number_1\" style=\"padding-right:30px;\">5,344,555</td>,\n",
       " <td class=\"number_1\">309.69</td>,\n",
       " <td class=\"number_1\">\n",
       " <span class=\"tah p11 red01\">\n",
       " \t\t\t\t+2.71%\n",
       " \t\t\t\t</span>\n",
       " </td>,\n",
       " <td class=\"number_1\" style=\"padding-right:40px;\">121,175</td>,\n",
       " <td class=\"number_1\" style=\"padding-right:30px;\">5,859,248</td>,\n",
       " <td class=\"number_1\">301.53</td>,\n",
       " <td class=\"number_1\">\n",
       " <span class=\"tah p11 red01\">\n",
       " \t\t\t\t+1.23%\n",
       " \t\t\t\t</span>\n",
       " </td>,\n",
       " <td class=\"number_1\" style=\"padding-right:40px;\">121,021</td>,\n",
       " <td class=\"number_1\" style=\"padding-right:30px;\">5,367,994</td>,\n",
       " <td class=\"number_1\">297.87</td>,\n",
       " <td class=\"number_1\">\n",
       " <span class=\"tah p11 red01\">\n",
       " \t\t\t\t+0.64%\n",
       " \t\t\t\t</span>\n",
       " </td>,\n",
       " <td class=\"number_1\" style=\"padding-right:40px;\">137,287</td>,\n",
       " <td class=\"number_1\" style=\"padding-right:30px;\">6,003,133</td>,\n",
       " <td class=\"number_1\">295.98</td>,\n",
       " <td class=\"number_1\">\n",
       " <span class=\"tah p11 red01\">\n",
       " \t\t\t\t+2.21%\n",
       " \t\t\t\t</span>\n",
       " </td>,\n",
       " <td class=\"number_1\" style=\"padding-right:40px;\">109,947</td>,\n",
       " <td class=\"number_1\" style=\"padding-right:30px;\">5,193,513</td>]"
      ]
     },
     "execution_count": 17,
     "metadata": {},
     "output_type": "execute_result"
    }
   ],
   "source": [
    "prices = source.find_all(\"td\", class_=\"number_1\")\n",
    "prices"
   ]
  },
  {
   "cell_type": "markdown",
   "id": "5d5112bb",
   "metadata": {},
   "source": [
    "- 실행 결과 체결가 외에 다른 정보도 같은 클래스 이름으로 지정되어 있음 </br></br>\n",
    "- 체결가, 등락율, 거래량, 거래대금 순으로 구성되어 있음 --> slice 이용하여 체결가만 추출할 것"
   ]
  },
  {
   "cell_type": "code",
   "execution_count": 19,
   "id": "909fec85",
   "metadata": {},
   "outputs": [
    {
     "data": {
      "text/plain": [
       "[<td class=\"number_1\">310.38</td>,\n",
       " <td class=\"number_1\">309.57</td>,\n",
       " <td class=\"number_1\">309.69</td>,\n",
       " <td class=\"number_1\">301.53</td>,\n",
       " <td class=\"number_1\">297.87</td>,\n",
       " <td class=\"number_1\">295.98</td>]"
      ]
     },
     "execution_count": 19,
     "metadata": {},
     "output_type": "execute_result"
    }
   ],
   "source": [
    "prices[::4] # 처음부터 끝까지 4칸씩 점프해서 slice"
   ]
  },
  {
   "cell_type": "code",
   "execution_count": 21,
   "id": "71c2aa2f",
   "metadata": {},
   "outputs": [
    {
     "data": {
      "text/plain": [
       "['310.38', '309.57', '309.69', '301.53', '297.87', '295.98']"
      ]
     },
     "execution_count": 21,
     "metadata": {},
     "output_type": "execute_result"
    }
   ],
   "source": [
    "# 태그 속 텍스트만 추출하여 리스트에 저장\n",
    "price_list=[]\n",
    "for price in prices[::4]:\n",
    "    price_list.append(price.text)\n",
    "price_list"
   ]
  },
  {
   "attachments": {},
   "cell_type": "markdown",
   "id": "83208836",
   "metadata": {},
   "source": [
    "### 마지막 페이지 번호 찾기\n",
    "- 현재까지 하나의 페이지에서 크롤링하는 것을 완료함\n",
    "- 현재까지의 작업을 원하는 페이지까지 (또는 끝까지) 반복 진행할 것\n",
    "- 맨 뒤 페이지 번호의 tag를 이용"
   ]
  },
  {
   "cell_type": "code",
   "execution_count": 25,
   "id": "f4a6700c",
   "metadata": {},
   "outputs": [
    {
     "data": {
      "text/plain": [
       "'/sise/sise_index_day.naver?code=KPI200&page=702'"
      ]
     },
     "execution_count": 25,
     "metadata": {},
     "output_type": "execute_result"
    }
   ],
   "source": [
    "# pgRR 태그 중 첫 번째 원소의 a 태그 중 첫 번째 원소의 href 속성을 추출\n",
    "last_url=source.find_all(\"td\", class_=\"pgRR\")[0].find_all(\"a\")[0][\"href\"]\n",
    "last_url"
   ]
  },
  {
   "cell_type": "code",
   "execution_count": 30,
   "id": "ea9ebe46",
   "metadata": {},
   "outputs": [
    {
     "data": {
      "text/plain": [
       "702"
      ]
     },
     "execution_count": 30,
     "metadata": {},
     "output_type": "execute_result"
    }
   ],
   "source": [
    "# 마지막 Page number인 마지막 글자를 떼어낼 것\n",
    "last_page = int(last_url.split('&page=')[-1]) # &page= 을 기준으로 split하고 뒤의 원소 이용\n",
    "last_page"
   ]
  },
  {
   "cell_type": "markdown",
   "id": "f654146a",
   "metadata": {},
   "source": [
    "### 가져온 모든 정보를 하나로 합쳐서 구현\n",
    "1) 일별 시세 정보가 있는 페이지에 접속</br></br>\n",
    "2) 페이지에서 날짜 / 체결가가 들어있는 태그 검색</br></br>\n",
    "3) 태그 중에서 조건에 맞는 데이터만 가져옴</br></br>\n",
    "4) 이를 원하는 만큼(마지막 페이지까지) 반복</br></br>"
   ]
  },
  {
   "cell_type": "code",
   "execution_count": 32,
   "id": "518b0e29",
   "metadata": {},
   "outputs": [],
   "source": [
    "# 모든 내용을 하나의 코드로 구현하기\n",
    "import requests\n",
    "import bs4\n",
    "\n",
    "date_list=[]\n",
    "price_list=[]\n",
    "\n",
    "for page_no in range(1,last_page + 1):\n",
    "    page_url = f\"https://finance.naver.com/sise/sise_index_day.naver?code=KPI200&page={page_no}\"\n",
    "\n",
    "    source = requests.get(page_url).text\n",
    "    source = bs4.BeautifulSoup(source)\n",
    "\n",
    "    dates = source.find_all('td', class_=\"date\")\n",
    "    for date in dates:\n",
    "        date_list.append(date.text)\n",
    "\n",
    "    prices = source.find_all(\"td\", class_=\"number_1\")\n",
    "    for price in prices[::4]:\n",
    "        price_list.append(price.text)"
   ]
  },
  {
   "cell_type": "code",
   "execution_count": 33,
   "id": "117b7f47",
   "metadata": {},
   "outputs": [
    {
     "data": {
      "text/plain": [
       "(4212, 4212)"
      ]
     },
     "execution_count": 33,
     "metadata": {},
     "output_type": "execute_result"
    }
   ],
   "source": [
    "len(date_list), len(price_list)"
   ]
  },
  {
   "cell_type": "markdown",
   "id": "aca9d536",
   "metadata": {},
   "source": [
    "- 추출한 데이터를 pandas를 이용하여 저장함"
   ]
  },
  {
   "cell_type": "code",
   "execution_count": 35,
   "id": "7fa2655e",
   "metadata": {},
   "outputs": [
    {
     "data": {
      "text/html": [
       "<div>\n",
       "<style scoped>\n",
       "    .dataframe tbody tr th:only-of-type {\n",
       "        vertical-align: middle;\n",
       "    }\n",
       "\n",
       "    .dataframe tbody tr th {\n",
       "        vertical-align: top;\n",
       "    }\n",
       "\n",
       "    .dataframe thead th {\n",
       "        text-align: right;\n",
       "    }\n",
       "</style>\n",
       "<table border=\"1\" class=\"dataframe\">\n",
       "  <thead>\n",
       "    <tr style=\"text-align: right;\">\n",
       "      <th></th>\n",
       "      <th>date</th>\n",
       "      <th>price</th>\n",
       "    </tr>\n",
       "  </thead>\n",
       "  <tbody>\n",
       "    <tr>\n",
       "      <th>0</th>\n",
       "      <td>2023.01.11</td>\n",
       "      <td>310.38</td>\n",
       "    </tr>\n",
       "    <tr>\n",
       "      <th>1</th>\n",
       "      <td>2023.01.10</td>\n",
       "      <td>309.57</td>\n",
       "    </tr>\n",
       "    <tr>\n",
       "      <th>2</th>\n",
       "      <td>2023.01.09</td>\n",
       "      <td>309.69</td>\n",
       "    </tr>\n",
       "    <tr>\n",
       "      <th>3</th>\n",
       "      <td>2023.01.06</td>\n",
       "      <td>301.53</td>\n",
       "    </tr>\n",
       "    <tr>\n",
       "      <th>4</th>\n",
       "      <td>2023.01.05</td>\n",
       "      <td>297.87</td>\n",
       "    </tr>\n",
       "    <tr>\n",
       "      <th>...</th>\n",
       "      <td>...</td>\n",
       "      <td>...</td>\n",
       "    </tr>\n",
       "    <tr>\n",
       "      <th>4207</th>\n",
       "      <td>2006.01.04</td>\n",
       "      <td>179.91</td>\n",
       "    </tr>\n",
       "    <tr>\n",
       "      <th>4208</th>\n",
       "      <td>2006.01.03</td>\n",
       "      <td>178.81</td>\n",
       "    </tr>\n",
       "    <tr>\n",
       "      <th>4209</th>\n",
       "      <td></td>\n",
       "      <td></td>\n",
       "    </tr>\n",
       "    <tr>\n",
       "      <th>4210</th>\n",
       "      <td></td>\n",
       "      <td></td>\n",
       "    </tr>\n",
       "    <tr>\n",
       "      <th>4211</th>\n",
       "      <td></td>\n",
       "      <td></td>\n",
       "    </tr>\n",
       "  </tbody>\n",
       "</table>\n",
       "<p>4212 rows × 2 columns</p>\n",
       "</div>"
      ],
      "text/plain": [
       "            date   price\n",
       "0     2023.01.11  310.38\n",
       "1     2023.01.10  309.57\n",
       "2     2023.01.09  309.69\n",
       "3     2023.01.06  301.53\n",
       "4     2023.01.05  297.87\n",
       "...          ...     ...\n",
       "4207  2006.01.04  179.91\n",
       "4208  2006.01.03  178.81\n",
       "4209                    \n",
       "4210                    \n",
       "4211                    \n",
       "\n",
       "[4212 rows x 2 columns]"
      ]
     },
     "execution_count": 35,
     "metadata": {},
     "output_type": "execute_result"
    }
   ],
   "source": [
    "import pandas as pd\n",
    "\n",
    "df = pd.DataFrame({\"date\" : date_list, \"price\" : price_list}).dropna()\n",
    "df"
   ]
  },
  {
   "cell_type": "code",
   "execution_count": 36,
   "id": "4f41a602",
   "metadata": {},
   "outputs": [],
   "source": [
    "df.to_excel(\"kpi200.xlsx\", index=False) # xlsx 파일로 저장"
   ]
  }
 ],
 "metadata": {
  "kernelspec": {
   "display_name": "Python 3 (ipykernel)",
   "language": "python",
   "name": "python3"
  },
  "language_info": {
   "codemirror_mode": {
    "name": "ipython",
    "version": 3
   },
   "file_extension": ".py",
   "mimetype": "text/x-python",
   "name": "python",
   "nbconvert_exporter": "python",
   "pygments_lexer": "ipython3",
   "version": "3.9.13"
  }
 },
 "nbformat": 4,
 "nbformat_minor": 5
}
